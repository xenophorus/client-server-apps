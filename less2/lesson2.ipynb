{
 "cells": [
  {
   "cell_type": "code",
   "execution_count": 1,
   "metadata": {},
   "outputs": [],
   "source": [
    "import csv\n",
    "import json\n",
    "import yaml"
   ]
  },
  {
   "cell_type": "code",
   "execution_count": 2,
   "metadata": {},
   "outputs": [
    {
     "name": "stdout",
     "output_type": "stream",
     "text": [
      "['hostname', 'vendor', 'model', 'location']\n",
      "['kp1', 'Cisco', '2960', 'Moscow']\n",
      "['kp2', 'Cisco', '2960', 'Novosibirsk']\n",
      "['kp3', 'Cisco', '2960', 'Kazan']\n",
      "['kp4', 'Cisco', '2960', 'Tomsk']\n"
     ]
    }
   ],
   "source": [
    "with open('kp_data.csv') as f:\n",
    "    f_read = csv.reader(f)\n",
    "    for line in f_read:\n",
    "        print(line)\n",
    "        "
   ]
  },
  {
   "cell_type": "code",
   "execution_count": 3,
   "metadata": {},
   "outputs": [
    {
     "name": "stdout",
     "output_type": "stream",
     "text": [
      "Help on built-in function reader in module _csv:\n",
      "\n",
      "reader(...)\n",
      "    csv_reader = reader(iterable [, dialect='excel']\n",
      "                            [optional keyword args])\n",
      "        for row in csv_reader:\n",
      "            process(row)\n",
      "    \n",
      "    The \"iterable\" argument can be any object that returns a line\n",
      "    of input for each iteration, such as a file object or a list.  The\n",
      "    optional \"dialect\" parameter is discussed below.  The function\n",
      "    also accepts optional keyword arguments which override settings\n",
      "    provided by the dialect.\n",
      "    \n",
      "    The returned object is an iterator.  Each iteration returns a row\n",
      "    of the CSV file (which can span multiple input lines).\n",
      "\n"
     ]
    }
   ],
   "source": [
    "help(csv.reader)"
   ]
  },
  {
   "cell_type": "code",
   "execution_count": 4,
   "metadata": {},
   "outputs": [
    {
     "name": "stdout",
     "output_type": "stream",
     "text": [
      "['hostname,vendor,model,location\\n', 'kp1,Cisco,2960,Moscow\\n', 'kp2,Cisco,2960,Novosibirsk\\n', 'kp3,Cisco,2960,Kazan\\n', 'kp4,Cisco,2960,Tomsk\\n']\n"
     ]
    }
   ],
   "source": [
    "with open('kp_data.csv') as f:\n",
    "    f_read = csv.reader(f)\n",
    "    print(list(f))"
   ]
  },
  {
   "cell_type": "code",
   "execution_count": 5,
   "metadata": {},
   "outputs": [
    {
     "name": "stdout",
     "output_type": "stream",
     "text": [
      "Headers:  hostname,vendor,model,location\n",
      "\n",
      "['kp1', 'Cisco', '2960', 'Moscow']\n",
      "['kp2', 'Cisco', '2960', 'Novosibirsk']\n",
      "['kp3', 'Cisco', '2960', 'Kazan']\n",
      "['kp4', 'Cisco', '2960', 'Tomsk']\n"
     ]
    }
   ],
   "source": [
    "with open('kp_data.csv') as f:\n",
    "    f_read = csv.reader(f)\n",
    "    header = next(f)\n",
    "    print('Headers: ', header)\n",
    "    for l in f_read:\n",
    "        print(l)\n",
    "    "
   ]
  },
  {
   "cell_type": "code",
   "execution_count": 6,
   "metadata": {},
   "outputs": [
    {
     "name": "stdout",
     "output_type": "stream",
     "text": [
      "['hostname', '', 'vendor', '', 'model', '', 'location']\n",
      "['kp1', '', 'Cisco', '', '2960', '', 'Moscow']\n"
     ]
    }
   ],
   "source": [
    "with open('./csv/kp_data_delimiter.csv') as f:\n",
    "    f_read = csv.reader(f, delimiter='!')\n",
    "    for line in f_read:\n",
    "        print(line)"
   ]
  },
  {
   "cell_type": "code",
   "execution_count": 7,
   "metadata": {},
   "outputs": [
    {
     "name": "stdout",
     "output_type": "stream",
     "text": [
      "kp1 2960\n",
      "kp2 2960\n",
      "kp3 2960\n",
      "kp4 2960\n"
     ]
    }
   ],
   "source": [
    "with open('kp_data.csv') as f:\n",
    "    f_read = csv.DictReader(f)\n",
    "    for l in f_read:\n",
    "        # print(l)\n",
    "        print(l['hostname'], l['model'])"
   ]
  },
  {
   "cell_type": "code",
   "execution_count": 8,
   "metadata": {},
   "outputs": [
    {
     "name": "stdout",
     "output_type": "stream",
     "text": [
      "{'hostname': 'kp1', 'vendor': 'Cisco', 'model': '2960', 'location': 'Moscow'}\n",
      "{'hostname': 'kp2', 'vendor': 'Cisco', 'model': '2960', 'location': 'Novosibirsk'}\n",
      "{'hostname': 'kp3', 'vendor': 'Cisco', 'model': '2960', 'location': 'Kazan'}\n",
      "{'hostname': 'kp4', 'vendor': 'Cisco', 'model': '2960', 'location': 'Tomsk'}\n"
     ]
    }
   ],
   "source": [
    "with open('kp_data.csv') as f:\n",
    "    f_read = csv.DictReader(f)\n",
    "    for l in f_read:\n",
    "        print(l)\n",
    "        "
   ]
  },
  {
   "cell_type": "code",
   "execution_count": 9,
   "metadata": {},
   "outputs": [],
   "source": [
    "data = [\n",
    "    ['hostname', 'vendor', 'model', 'location'],\n",
    "    ['kp1', 'Cisco', '2960', 'Moscow'],\n",
    "    ['kp2', 'Cisco', '2960', 'Novosibirsk'],\n",
    "    ['kp3', 'Cisco', '2960', 'Kazan'],\n",
    "    ['kp4', 'Cisco', '2960', 'Tomsk']\n",
    "]\n"
   ]
  },
  {
   "cell_type": "code",
   "execution_count": 10,
   "metadata": {},
   "outputs": [],
   "source": [
    "with open('kp_data_write1.csv', 'w', newline='') as f:\n",
    "    f_writer = csv.writer(f)\n",
    "    for l in data:\n",
    "        f_writer.writerow(l)"
   ]
  },
  {
   "cell_type": "code",
   "execution_count": 11,
   "metadata": {},
   "outputs": [
    {
     "name": "stdout",
     "output_type": "stream",
     "text": [
      "['hostname', 'vendor', 'model', 'location']\n",
      "['kp1', 'Cisco', '2960', 'Moscow']\n",
      "['kp2', 'Cisco', '2960', 'Novosibirsk']\n",
      "['kp3', 'Cisco', '2960', 'Kazan']\n",
      "['kp4', 'Cisco', '2960', 'Tomsk']\n"
     ]
    }
   ],
   "source": [
    "with open('kp_data_write1.csv') as f:\n",
    "    f_read = csv.reader(f)\n",
    "    for line in f_read:\n",
    "        print(line)"
   ]
  },
  {
   "cell_type": "code",
   "execution_count": 12,
   "metadata": {},
   "outputs": [],
   "source": [
    "with open('kp_data_write2.csv', 'w', newline='') as f:\n",
    "    f_writer = csv.writer(f, quoting=csv.QUOTE_NONNUMERIC)\n",
    "    for l in data:\n",
    "        f_writer.writerow(l)"
   ]
  },
  {
   "cell_type": "code",
   "execution_count": 13,
   "metadata": {},
   "outputs": [
    {
     "name": "stdout",
     "output_type": "stream",
     "text": [
      "\"hostname\",\"vendor\",\"model\",\"location\"\n",
      "\"kp1\",\"Cisco\",\"2960\",\"Moscow\"\n",
      "\"kp2\",\"Cisco\",\"2960\",\"Novosibirsk\"\n",
      "\"kp3\",\"Cisco\",\"2960\",\"Kazan\"\n",
      "\"kp4\",\"Cisco\",\"2960\",\"Tomsk\"\n",
      "\n"
     ]
    }
   ],
   "source": [
    "with open('kp_data_write2.csv') as f:\n",
    "    print(f.read())\n",
    "#     f_read = csv.reader(f)\n",
    "#     for line in f_read:\n",
    "#         print(line)"
   ]
  },
  {
   "cell_type": "code",
   "execution_count": 14,
   "metadata": {},
   "outputs": [
    {
     "name": "stdout",
     "output_type": "stream",
     "text": [
      "hostname,vendor,model,location\n",
      "kp1,Cisco,2960,Moscow\n",
      "kp2,Cisco,2960,Novosibirsk\n",
      "kp3,Cisco,2960,Kazan\n",
      "kp4,Cisco,2960,Tomsk\n",
      "\n"
     ]
    }
   ],
   "source": [
    "with open('kp_data_write3.csv', 'w', newline='') as f:\n",
    "    f_writer = csv.writer(f)\n",
    "    f_writer.writerows(data)\n",
    "\n",
    "with open('kp_data_write3.csv') as f:\n",
    "    print(f.read())"
   ]
  },
  {
   "cell_type": "code",
   "execution_count": 15,
   "metadata": {},
   "outputs": [],
   "source": [
    "data2 = [\n",
    "    {'hostname': 'kp1', 'vendor': 'Cisco', 'model': '2960', 'location': 'Moscow'},\n",
    "    {'hostname': 'kp2', 'vendor': 'Cisco', 'model': '2960', 'location': 'Novosibirsk'},\n",
    "    {'hostname': 'kp3', 'vendor': 'Cisco', 'model': '2960', 'location': 'Kazan'},\n",
    "    {'hostname': 'kp4', 'vendor': 'Cisco', 'model': '2960', 'location': 'Tomsk'}\n",
    "]"
   ]
  },
  {
   "cell_type": "code",
   "execution_count": 16,
   "metadata": {},
   "outputs": [
    {
     "data": {
      "text/plain": [
       "[{'hostname': 'kp1', 'vendor': 'Cisco', 'model': '2960', 'location': 'Moscow'},\n",
       " {'hostname': 'kp2',\n",
       "  'vendor': 'Cisco',\n",
       "  'model': '2960',\n",
       "  'location': 'Novosibirsk'},\n",
       " {'hostname': 'kp3', 'vendor': 'Cisco', 'model': '2960', 'location': 'Kazan'},\n",
       " {'hostname': 'kp4', 'vendor': 'Cisco', 'model': '2960', 'location': 'Tomsk'}]"
      ]
     },
     "execution_count": 16,
     "metadata": {},
     "output_type": "execute_result"
    }
   ],
   "source": [
    "data2"
   ]
  },
  {
   "cell_type": "code",
   "execution_count": 17,
   "metadata": {},
   "outputs": [
    {
     "name": "stdout",
     "output_type": "stream",
     "text": [
      "hostname,vendor,model,location\n",
      "kp1,Cisco,2960,Moscow\n",
      "kp2,Cisco,2960,Novosibirsk\n",
      "kp3,Cisco,2960,Kazan\n",
      "kp4,Cisco,2960,Tomsk\n",
      "\n"
     ]
    }
   ],
   "source": [
    "with open('kp_data_dictwrite.csv', 'w', newline='') as f:\n",
    "    f_writer = csv.DictWriter(f, fieldnames=list(data2[0].keys()))\n",
    "    f_writer.writeheader()\n",
    "    for d in data2:\n",
    "        f_writer.writerow(d)\n",
    "\n",
    "with open('kp_data_dictwrite.csv') as f:\n",
    "    print(f.read())"
   ]
  },
  {
   "cell_type": "code",
   "execution_count": 18,
   "metadata": {},
   "outputs": [
    {
     "name": "stdout",
     "output_type": "stream",
     "text": [
      "action msg\n",
      "to account_name\n",
      "from account_name\n",
      "encoding ascii\n",
      "message message\n"
     ]
    }
   ],
   "source": [
    "with open('json/mes_example_read.json') as f:\n",
    "    obj = json.load(f)\n",
    "    for key, value in obj.items():\n",
    "        print(key, value)"
   ]
  },
  {
   "cell_type": "code",
   "execution_count": 19,
   "metadata": {},
   "outputs": [
    {
     "name": "stdout",
     "output_type": "stream",
     "text": [
      "{'action': 'msg', 'to': 'account_name', 'from': 'account_name', 'encoding': 'ascii', 'message': 'message'}\n"
     ]
    }
   ],
   "source": [
    "with open('json/mes_example_read.json') as f:\n",
    "    f_content = f.read()\n",
    "    obj = json.loads(f_content)\n",
    "    print(obj)"
   ]
  },
  {
   "cell_type": "code",
   "execution_count": 20,
   "metadata": {},
   "outputs": [],
   "source": [
    "json_dict = {'action': 'msg', \n",
    "            'to': 'account_name', \n",
    "            'from': 'account_name', \n",
    "            'encoding': 'ascii', \n",
    "            'message': 'message'\n",
    "           }\n"
   ]
  },
  {
   "cell_type": "code",
   "execution_count": 21,
   "metadata": {},
   "outputs": [
    {
     "data": {
      "text/plain": [
       "dict"
      ]
     },
     "execution_count": 21,
     "metadata": {},
     "output_type": "execute_result"
    }
   ],
   "source": [
    "type(json_dict)"
   ]
  },
  {
   "cell_type": "code",
   "execution_count": 22,
   "metadata": {},
   "outputs": [
    {
     "data": {
      "text/plain": [
       "str"
      ]
     },
     "execution_count": 22,
     "metadata": {},
     "output_type": "execute_result"
    }
   ],
   "source": [
    "json_str = json.dumps(json_dict)\n",
    "type(json_str)"
   ]
  },
  {
   "cell_type": "code",
   "execution_count": 23,
   "metadata": {},
   "outputs": [
    {
     "name": "stdout",
     "output_type": "stream",
     "text": [
      "{\"action\": \"msg\", \"to\": \"account_name\", \"from\": \"account_name\", \"encoding\": \"ascii\", \"message\": \"message\"}\n"
     ]
    }
   ],
   "source": [
    "with open('mes_example_write1.json', 'w') as f:\n",
    "    json.dump(json_dict, f)\n",
    "    \n",
    "with open('mes_example_write1.json') as f:\n",
    "    print(f.read())"
   ]
  },
  {
   "cell_type": "code",
   "execution_count": 24,
   "metadata": {},
   "outputs": [],
   "source": [
    "with open('mes_example_write2.json', 'w') as f:\n",
    "    json.dump(json_dict, f, sort_keys=True, indent=2)"
   ]
  },
  {
   "cell_type": "code",
   "execution_count": 25,
   "metadata": {},
   "outputs": [
    {
     "name": "stdout",
     "output_type": "stream",
     "text": [
      "{\n",
      "  \"action\": \"msg\",\n",
      "  \"encoding\": \"ascii\",\n",
      "  \"from\": \"account_name\",\n",
      "  \"message\": \"message\",\n",
      "  \"to\": \"account_name\"\n",
      "}\n"
     ]
    }
   ],
   "source": [
    "with open('mes_example_write2.json') as f:\n",
    "    print(f.read())"
   ]
  },
  {
   "cell_type": "code",
   "execution_count": 28,
   "metadata": {},
   "outputs": [
    {
     "name": "stdout",
     "output_type": "stream",
     "text": [
      "[{'action': 'msg_1', 'to': 'account_1'}, {'action': 'msg_2', 'to': 'account_2'}]\n"
     ]
    }
   ],
   "source": [
    "with open('yaml/data_read.yaml') as f:\n",
    "    f_cont = yaml.load(f, Loader=yaml.FullLoader)\n",
    "    print(f_cont)"
   ]
  },
  {
   "cell_type": "code",
   "execution_count": 29,
   "metadata": {},
   "outputs": [],
   "source": [
    "act_list = ['act1', 'act2', 'act3']\n",
    "to_list = ['to1', 'to2', 'to3']\n",
    "mt1 = 12345\n",
    "mt2 = 23456"
   ]
  },
  {
   "cell_type": "code",
   "execution_count": 30,
   "metadata": {},
   "outputs": [],
   "source": [
    "data_to_yaml = {'action':act_list, 'to':to_list, 'variable1':mt1, 'var2':mt2, 'testing':'yaml'}"
   ]
  },
  {
   "cell_type": "code",
   "execution_count": 31,
   "metadata": {},
   "outputs": [],
   "source": [
    "with open('data_to_write1.yaml', 'w') as f:\n",
    "    yaml.dump(data_to_yaml, f)\n"
   ]
  },
  {
   "cell_type": "code",
   "execution_count": 32,
   "metadata": {},
   "outputs": [
    {
     "name": "stdout",
     "output_type": "stream",
     "text": [
      "{'action': ['act1', 'act2', 'act3'], 'testing': 'yaml', 'to': ['to1', 'to2', 'to3'], 'var2': 23456, 'variable1': 12345}\n"
     ]
    }
   ],
   "source": [
    "with open('data_to_write1.yaml', 'r') as f:\n",
    "    cont = yaml.load(f, Loader=yaml.FullLoader)\n",
    "    print(cont)"
   ]
  },
  {
   "cell_type": "code",
   "execution_count": null,
   "metadata": {},
   "outputs": [],
   "source": []
  }
 ],
 "metadata": {
  "kernelspec": {
   "display_name": "Python 3",
   "language": "python",
   "name": "python3"
  },
  "language_info": {
   "codemirror_mode": {
    "name": "ipython",
    "version": 3
   },
   "file_extension": ".py",
   "mimetype": "text/x-python",
   "name": "python",
   "nbconvert_exporter": "python",
   "pygments_lexer": "ipython3",
   "version": "3.8.3"
  }
 },
 "nbformat": 4,
 "nbformat_minor": 4
}
