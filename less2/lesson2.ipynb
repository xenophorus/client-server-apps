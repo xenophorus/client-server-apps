{
 "cells": [
  {
   "cell_type": "code",
   "execution_count": 1,
   "metadata": {},
   "outputs": [],
   "source": [
    "import csv\n"
   ]
  },
  {
   "cell_type": "code",
   "execution_count": 5,
   "metadata": {},
   "outputs": [
    {
     "name": "stdout",
     "output_type": "stream",
     "text": [
      "['hostname', 'vendor', 'model', 'location']\n",
      "['kp1', 'Cisco', '2960', 'Moscow']\n",
      "['kp2', 'Cisco', '2960', 'Novosibirsk']\n",
      "['kp3', 'Cisco', '2960', 'Kazan']\n",
      "['kp4', 'Cisco', '2960', 'Tomsk']\n"
     ]
    }
   ],
   "source": [
    "with open('kp_data.csv') as f:\n",
    "    f_read = csv.reader(f)\n",
    "    for line in f_read:\n",
    "        print(line)\n",
    "        "
   ]
  },
  {
   "cell_type": "code",
   "execution_count": 6,
   "metadata": {},
   "outputs": [
    {
     "name": "stdout",
     "output_type": "stream",
     "text": [
      "Help on built-in function reader in module _csv:\n",
      "\n",
      "reader(...)\n",
      "    csv_reader = reader(iterable [, dialect='excel']\n",
      "                            [optional keyword args])\n",
      "        for row in csv_reader:\n",
      "            process(row)\n",
      "    \n",
      "    The \"iterable\" argument can be any object that returns a line\n",
      "    of input for each iteration, such as a file object or a list.  The\n",
      "    optional \"dialect\" parameter is discussed below.  The function\n",
      "    also accepts optional keyword arguments which override settings\n",
      "    provided by the dialect.\n",
      "    \n",
      "    The returned object is an iterator.  Each iteration returns a row\n",
      "    of the CSV file (which can span multiple input lines).\n",
      "\n"
     ]
    }
   ],
   "source": [
    "help(csv.reader)"
   ]
  },
  {
   "cell_type": "code",
   "execution_count": 7,
   "metadata": {},
   "outputs": [
    {
     "name": "stdout",
     "output_type": "stream",
     "text": [
      "['hostname,vendor,model,location\\n', 'kp1,Cisco,2960,Moscow\\n', 'kp2,Cisco,2960,Novosibirsk\\n', 'kp3,Cisco,2960,Kazan\\n', 'kp4,Cisco,2960,Tomsk\\n']\n"
     ]
    }
   ],
   "source": [
    "with open('kp_data.csv') as f:\n",
    "    f_read = csv.reader(f)\n",
    "    print(list(f))"
   ]
  },
  {
   "cell_type": "code",
   "execution_count": 8,
   "metadata": {},
   "outputs": [
    {
     "name": "stdout",
     "output_type": "stream",
     "text": [
      "Headers:  hostname,vendor,model,location\n",
      "\n",
      "['kp1', 'Cisco', '2960', 'Moscow']\n",
      "['kp2', 'Cisco', '2960', 'Novosibirsk']\n",
      "['kp3', 'Cisco', '2960', 'Kazan']\n",
      "['kp4', 'Cisco', '2960', 'Tomsk']\n"
     ]
    }
   ],
   "source": [
    "with open('kp_data.csv') as f:\n",
    "    f_read = csv.reader(f)\n",
    "    header = next(f)\n",
    "    print('Headers: ', header)\n",
    "    for l in f_read:\n",
    "        print(l)\n",
    "    "
   ]
  },
  {
   "cell_type": "code",
   "execution_count": 10,
   "metadata": {},
   "outputs": [
    {
     "name": "stdout",
     "output_type": "stream",
     "text": [
      "['hostname', '', 'vendor', '', 'model', '', 'location']\n",
      "['kp1', '', 'Cisco', '', '2960', '', 'Moscow']\n"
     ]
    }
   ],
   "source": [
    "with open('./csv/kp_data_delimiter.csv') as f:\n",
    "    f_read = csv.reader(f, delimiter='!')\n",
    "    for line in f_read:\n",
    "        print(line)"
   ]
  },
  {
   "cell_type": "code",
   "execution_count": 12,
   "metadata": {},
   "outputs": [
    {
     "name": "stdout",
     "output_type": "stream",
     "text": [
      "kp1 2960\n",
      "kp2 2960\n",
      "kp3 2960\n",
      "kp4 2960\n"
     ]
    }
   ],
   "source": [
    "with open('kp_data.csv') as f:\n",
    "    f_read = csv.DictReader(f)\n",
    "    for l in f_read:\n",
    "        # print(l)\n",
    "        print(l['hostname'], l['model'])"
   ]
  },
  {
   "cell_type": "code",
   "execution_count": 13,
   "metadata": {},
   "outputs": [
    {
     "name": "stdout",
     "output_type": "stream",
     "text": [
      "{'hostname': 'kp1', 'vendor': 'Cisco', 'model': '2960', 'location': 'Moscow'}\n",
      "{'hostname': 'kp2', 'vendor': 'Cisco', 'model': '2960', 'location': 'Novosibirsk'}\n",
      "{'hostname': 'kp3', 'vendor': 'Cisco', 'model': '2960', 'location': 'Kazan'}\n",
      "{'hostname': 'kp4', 'vendor': 'Cisco', 'model': '2960', 'location': 'Tomsk'}\n"
     ]
    }
   ],
   "source": [
    "with open('kp_data.csv') as f:\n",
    "    f_read = csv.DictReader(f)\n",
    "    for l in f_read:\n",
    "        print(l)\n",
    "        "
   ]
  },
  {
   "cell_type": "code",
   "execution_count": 55,
   "metadata": {},
   "outputs": [],
   "source": [
    "data = [\n",
    "    ['hostname', 'vendor', 'model', 'location'],\n",
    "    ['kp1', 'Cisco', '2960', 'Moscow'],\n",
    "    ['kp2', 'Cisco', '2960', 'Novosibirsk'],\n",
    "    ['kp3', 'Cisco', '2960', 'Kazan'],\n",
    "    ['kp4', 'Cisco', '2960', 'Tomsk']\n",
    "]\n"
   ]
  },
  {
   "cell_type": "code",
   "execution_count": 60,
   "metadata": {},
   "outputs": [],
   "source": [
    "with open('kp_data_write1.csv', 'w', newline='') as f:\n",
    "    f_writer = csv.writer(f)\n",
    "    for l in data:\n",
    "        f_writer.writerow(l)"
   ]
  },
  {
   "cell_type": "code",
   "execution_count": 61,
   "metadata": {},
   "outputs": [
    {
     "name": "stdout",
     "output_type": "stream",
     "text": [
      "['hostname', 'vendor', 'model', 'location']\n",
      "['kp1', 'Cisco', '2960', 'Moscow']\n",
      "['kp2', 'Cisco', '2960', 'Novosibirsk']\n",
      "['kp3', 'Cisco', '2960', 'Kazan']\n",
      "['kp4', 'Cisco', '2960', 'Tomsk']\n"
     ]
    }
   ],
   "source": [
    "with open('kp_data_write1.csv') as f:\n",
    "    f_read = csv.reader(f)\n",
    "    for line in f_read:\n",
    "        print(line)"
   ]
  },
  {
   "cell_type": "code",
   "execution_count": 62,
   "metadata": {},
   "outputs": [],
   "source": [
    "with open('kp_data_write2.csv', 'w', newline='') as f:\n",
    "    f_writer = csv.writer(f, quoting=csv.QUOTE_NONNUMERIC)\n",
    "    for l in data:\n",
    "        f_writer.writerow(l)"
   ]
  },
  {
   "cell_type": "code",
   "execution_count": 64,
   "metadata": {},
   "outputs": [
    {
     "name": "stdout",
     "output_type": "stream",
     "text": [
      "\"hostname\",\"vendor\",\"model\",\"location\"\n",
      "\"kp1\",\"Cisco\",\"2960\",\"Moscow\"\n",
      "\"kp2\",\"Cisco\",\"2960\",\"Novosibirsk\"\n",
      "\"kp3\",\"Cisco\",\"2960\",\"Kazan\"\n",
      "\"kp4\",\"Cisco\",\"2960\",\"Tomsk\"\n",
      "\n"
     ]
    }
   ],
   "source": [
    "with open('kp_data_write2.csv') as f:\n",
    "    print(f.read())\n",
    "#     f_read = csv.reader(f)\n",
    "#     for line in f_read:\n",
    "#         print(line)"
   ]
  },
  {
   "cell_type": "code",
   "execution_count": 66,
   "metadata": {},
   "outputs": [
    {
     "name": "stdout",
     "output_type": "stream",
     "text": [
      "hostname,vendor,model,location\n",
      "kp1,Cisco,2960,Moscow\n",
      "kp2,Cisco,2960,Novosibirsk\n",
      "kp3,Cisco,2960,Kazan\n",
      "kp4,Cisco,2960,Tomsk\n",
      "\n"
     ]
    }
   ],
   "source": [
    "with open('kp_data_write3.csv', 'w', newline='') as f:\n",
    "    f_writer = csv.writer(f)\n",
    "    f_writer.writerows(data)\n",
    "\n",
    "with open('kp_data_write3.csv') as f:\n",
    "    print(f.read())"
   ]
  },
  {
   "cell_type": "code",
   "execution_count": 67,
   "metadata": {},
   "outputs": [],
   "source": [
    "data2 = [\n",
    "    {'hostname': 'kp1', 'vendor': 'Cisco', 'model': '2960', 'location': 'Moscow'},\n",
    "    {'hostname': 'kp2', 'vendor': 'Cisco', 'model': '2960', 'location': 'Novosibirsk'},\n",
    "    {'hostname': 'kp3', 'vendor': 'Cisco', 'model': '2960', 'location': 'Kazan'},\n",
    "    {'hostname': 'kp4', 'vendor': 'Cisco', 'model': '2960', 'location': 'Tomsk'}\n",
    "]"
   ]
  },
  {
   "cell_type": "code",
   "execution_count": 68,
   "metadata": {},
   "outputs": [
    {
     "data": {
      "text/plain": [
       "[{'hostname': 'kp1', 'vendor': 'Cisco', 'model': '2960', 'location': 'Moscow'},\n",
       " {'hostname': 'kp2',\n",
       "  'vendor': 'Cisco',\n",
       "  'model': '2960',\n",
       "  'location': 'Novosibirsk'},\n",
       " {'hostname': 'kp3', 'vendor': 'Cisco', 'model': '2960', 'location': 'Kazan'},\n",
       " {'hostname': 'kp4', 'vendor': 'Cisco', 'model': '2960', 'location': 'Tomsk'}]"
      ]
     },
     "execution_count": 68,
     "metadata": {},
     "output_type": "execute_result"
    }
   ],
   "source": [
    "data2"
   ]
  },
  {
   "cell_type": "code",
   "execution_count": 73,
   "metadata": {},
   "outputs": [
    {
     "name": "stdout",
     "output_type": "stream",
     "text": [
      "hostname,vendor,model,location\n",
      "kp1,Cisco,2960,Moscow\n",
      "kp2,Cisco,2960,Novosibirsk\n",
      "kp3,Cisco,2960,Kazan\n",
      "kp4,Cisco,2960,Tomsk\n",
      "\n"
     ]
    }
   ],
   "source": [
    "with open('kp_data_dictwrite.csv', 'w', newline='') as f:\n",
    "    f_writer = csv.DictWriter(f, fieldnames=list(data2[0].keys()))\n",
    "    f_writer.writeheader()\n",
    "    for d in data2:\n",
    "        f_writer.writerow(d)\n",
    "\n",
    "with open('kp_data_dictwrite.csv') as f:\n",
    "    print(f.read())"
   ]
  },
  {
   "cell_type": "code",
   "execution_count": null,
   "metadata": {},
   "outputs": [],
   "source": []
  }
 ],
 "metadata": {
  "kernelspec": {
   "display_name": "Python 3",
   "language": "python",
   "name": "python3"
  },
  "language_info": {
   "codemirror_mode": {
    "name": "ipython",
    "version": 3
   },
   "file_extension": ".py",
   "mimetype": "text/x-python",
   "name": "python",
   "nbconvert_exporter": "python",
   "pygments_lexer": "ipython3",
   "version": "3.8.3"
  }
 },
 "nbformat": 4,
 "nbformat_minor": 4
}
